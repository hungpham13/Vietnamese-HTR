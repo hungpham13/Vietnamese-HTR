{
 "cells": [
  {
   "cell_type": "markdown",
   "metadata": {
    "pycharm": {
     "name": "#%% md\n"
    }
   },
   "source": [
    "## Clean/enhance noisy scanned text images using Imgtxtenh"
   ]
  },
  {
   "cell_type": "markdown",
   "source": [
    "### Install Imgtxtenh"
   ],
   "metadata": {
    "collapsed": false,
    "pycharm": {
     "name": "#%% md\n"
    }
   }
  },
  {
   "cell_type": "code",
   "execution_count": 1,
   "outputs": [
    {
     "name": "stdout",
     "output_type": "stream",
     "text": [
      "Cloning into 'imgtxtenh'...\r\n",
      "remote: Enumerating objects: 55, done.\u001B[K\r\n",
      "remote: Total 55 (delta 0), reused 0 (delta 0), pack-reused 55\u001B[K\r\n",
      "Unpacking objects: 100% (55/55), 33.29 KiB | 473.00 KiB/s, done.\r\n",
      "/home/hung/Vietnamese-HTR/preprocessing/imgtxtenh/src\n",
      "Reading package lists... Done\r\n",
      "Building dependency tree       \r\n",
      "Reading state information... Done\r\n",
      "libmagickwand-dev is already the newest version (8:6.9.10.23+dfsg-2.1ubuntu11.4).\r\n",
      "0 upgraded, 0 newly installed, 0 to remove and 9 not upgraded.\r\n",
      "-- The C compiler identification is GNU 9.4.0\r\n",
      "-- The CXX compiler identification is GNU 9.4.0\r\n",
      "-- Check for working C compiler: /usr/bin/cc\r\n",
      "-- Check for working C compiler: /usr/bin/cc -- works\r\n",
      "-- Detecting C compiler ABI info\r\n",
      "-- Detecting C compiler ABI info - done\r\n",
      "-- Detecting C compile features\r\n",
      "-- Detecting C compile features - done\r\n",
      "-- Check for working CXX compiler: /usr/bin/c++\r\n",
      "-- Check for working CXX compiler: /usr/bin/c++ -- works\r\n",
      "-- Detecting CXX compiler ABI info\r\n",
      "-- Detecting CXX compiler ABI info - done\r\n",
      "-- Detecting CXX compile features\r\n",
      "-- Detecting CXX compile features - done\r\n",
      "-- Found PkgConfig: /usr/bin/pkg-config (found version \"0.29.1\") \r\n",
      "-- Checking for module 'MagickCore>=6.7.7'\r\n",
      "--   Found MagickCore, version 6.9.10\r\n",
      "-- Configuring done\r\n",
      "-- Generating done\r\n",
      "-- Build files have been written to: /home/hung/Vietnamese-HTR/preprocessing/imgtxtenh/src\r\n",
      "\u001B[35m\u001B[1mScanning dependencies of target imgtxtenh\u001B[0m\r\n",
      "[ 11%] \u001B[32mBuilding C object CMakeFiles/imgtxtenh.dir/htrprep.c.o\u001B[0m\r\n",
      "[ 22%] \u001B[32mBuilding C object CMakeFiles/imgtxtenh.dir/imgconv.c.o\u001B[0m\r\n",
      "[ 33%] \u001B[32mBuilding C object CMakeFiles/imgtxtenh.dir/imgio_magick.c.o\u001B[0m\r\n",
      "[ 44%] \u001B[32mBuilding C object CMakeFiles/imgtxtenh.dir/imgtxtenh.c.o\u001B[0m\r\n",
      "\u001B[01m\u001B[K/home/hung/Vietnamese-HTR/preprocessing/imgtxtenh/src/imgtxtenh.c:\u001B[m\u001B[K In function ‘\u001B[01m\u001B[Kmain\u001B[m\u001B[K’:\r\n",
      "\u001B[01m\u001B[K/home/hung/Vietnamese-HTR/preprocessing/imgtxtenh/src/imgtxtenh.c:255:11:\u001B[m\u001B[K \u001B[01;35m\u001B[Kwarning: \u001B[m\u001B[Kthis statement may fall through [\u001B[01;35m\u001B[K-Wimplicit-fallthrough=\u001B[m\u001B[K]\r\n",
      "  255 |       err = FAILURE;\r\n",
      "\u001B[01m\u001B[K/home/hung/Vietnamese-HTR/preprocessing/imgtxtenh/src/imgtxtenh.c:256:5:\u001B[m\u001B[K \u001B[01;36m\u001B[Knote: \u001B[m\u001B[Khere\r\n",
      "  256 |     \u001B[01;36m\u001B[Kcase\u001B[m\u001B[K 'h':\r\n",
      "      |     \u001B[01;36m\u001B[K^~~~\u001B[m\u001B[K\r\n",
      "[ 55%] \u001B[32mBuilding C object CMakeFiles/imgtxtenh.dir/intimg.c.o\u001B[0m\r\n",
      "[ 66%] \u001B[32mBuilding C object CMakeFiles/imgtxtenh.dir/log.c.o\u001B[0m\r\n",
      "[ 77%] \u001B[32mBuilding C object CMakeFiles/imgtxtenh.dir/mem.c.o\u001B[0m\r\n",
      "[ 88%] \u001B[32mBuilding C object CMakeFiles/imgtxtenh.dir/objs.c.o\u001B[0m\r\n",
      "[100%] \u001B[32m\u001B[1mLinking C executable imgtxtenh\u001B[0m\r\n",
      "[100%] Built target imgtxtenh\r\n"
     ]
    }
   ],
   "source": [
    "!git clone https://github.com/mauvilsa/imgtxtenh.git\n",
    "%cd imgtxtenh/src\n",
    "!pkexec apt-get install libmagickwand-dev --yes\n",
    "!cmake -DCMAKE_BUILD_TYPE=Release ..\n",
    "!make"
   ],
   "metadata": {
    "collapsed": false,
    "pycharm": {
     "name": "#%%\n"
    }
   }
  },
  {
   "cell_type": "code",
   "execution_count": 8,
   "outputs": [],
   "source": [
    "import os\n",
    "import subprocess\n",
    "\n",
    "def denoiseimg(src_dir, dest_dir, root_dir):\n",
    "    !mkdir \"{dest_dir}\"\n",
    "    %cd \"{root_dir}\"preprocessing/imgtxtenh/src\n",
    "    for n in os.listdir(src_dir):\n",
    "        if n[len(n)-4:] == '.jpg':\n",
    "            subprocess.run(['./imgtxtenh', src_dir+n, dest_dir+n])\n",
    "    # !cp \"{src_dir+'labels.json'}\" \"{dest_dir+'labels.json'}\""
   ],
   "metadata": {
    "collapsed": false,
    "pycharm": {
     "name": "#%%\n"
    }
   }
  },
  {
   "cell_type": "code",
   "execution_count": 9,
   "outputs": [
    {
     "name": "stdout",
     "output_type": "stream",
     "text": [
      "/home/hung/Vietnamese-HTR\n",
      "mkdir: cannot create directory ‘/home/hung/preprocess/’: File exists\r\n",
      "/home/hung/Vietnamese-HTR/preprocessing/imgtxtenh/src\n"
     ]
    }
   ],
   "source": [
    "import re\n",
    "root_dir = re.search(\"(.+Vietnamese-HTR/)\",os.getcwd()).group(1)\n",
    "%cd \"{root_dir}\"\n",
    "\n",
    "data_dir = root_dir + \"data/Data 1: Handwriting OCR for Vietnamese Address/\"\n",
    "train_dir = data_dir + \"0916_Data Samples 2/\"\n",
    "test_dir = data_dir + \"1015_Private Test/\"\n",
    "train_pre_dir = data_dir+\"train_preprocessed/\"\n",
    "test_pre_dir = data_dir+\"test_preprocessed/\"\n",
    "\n",
    "denoiseimg(\"/home/hung/Downloads/\", \"/home/hung/preprocess/\", root_dir)\n",
    "# denoiseimg(test_dir, test_pre_dir, root_dir)"
   ],
   "metadata": {
    "collapsed": false,
    "pycharm": {
     "name": "#%%\n"
    }
   }
  }
 ],
 "metadata": {
  "kernelspec": {
   "display_name": "Python 3",
   "language": "python",
   "name": "python3"
  },
  "language_info": {
   "codemirror_mode": {
    "name": "ipython",
    "version": 3
   },
   "file_extension": ".py",
   "mimetype": "text/x-python",
   "name": "python",
   "nbconvert_exporter": "python",
   "pygments_lexer": "ipython3",
   "version": "3.8.10"
  }
 },
 "nbformat": 4,
 "nbformat_minor": 1
}